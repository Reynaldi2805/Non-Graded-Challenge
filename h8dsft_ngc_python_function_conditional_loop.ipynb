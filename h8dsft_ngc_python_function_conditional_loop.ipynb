{
 "cells": [
  {
   "cell_type": "markdown",
   "metadata": {},
   "source": [
    "# Task #1 - Number of Word"
   ]
  },
  {
   "cell_type": "code",
   "execution_count": 4,
   "metadata": {},
   "outputs": [
    {
     "name": "stdout",
     "output_type": "stream",
     "text": [
      "2\n",
      "8\n"
     ]
    }
   ],
   "source": [
    "def number_of_word(sentence):\n",
    "  a = sentence.split()\n",
    "  b = len(a)\n",
    "  print(b)\n",
    "\n",
    "number_of_word(\"Hello World\")\n",
    "number_of_word(\"Once Upon a Time in a faraway land\")"
   ]
  },
  {
   "cell_type": "markdown",
   "metadata": {},
   "source": [
    "# Task #2 - Find Multiple"
   ]
  },
  {
   "cell_type": "code",
   "execution_count": 1,
   "metadata": {},
   "outputs": [
    {
     "name": "stdout",
     "output_type": "stream",
     "text": [
      "[5, 10, 15, 20]\n",
      "[10, 20, 30, 40, 50]\n"
     ]
    }
   ],
   "source": [
    "def find_multiples(start_range, end_range, multiple):\n",
    "  '''Masukkan List baru untuk di append'''\n",
    "  list = []\n",
    "  '''Membuat loop sampai di range akhir atau end_range'''\n",
    "  for i in range(end_range):\n",
    "    \n",
    "    '''Untuk setiap index i yang di iterasi sampai end_range, start range akan dikalikan dengan multiple \n",
    "    yang diberikan dan dimasukkan ke dalam list'''\n",
    "    \n",
    "    list.append(start_range * multiple)\n",
    "\n",
    "    '''\n",
    "    Setelah index yang pertama dimasukkan, range pertama akan ditambah satu dan balik ke kode awal\n",
    "    '''\n",
    "\n",
    "    start_range += 1\n",
    "    \n",
    "    '''Jika nilai list terakhir sudah sama dengan/melebih end_range, loop akan break'''\n",
    "    \n",
    "    if list[-1] >= end_range:\n",
    "      break; \n",
    "  print(list)\n",
    "\n",
    "find_multiples(start_range= 1, end_range= 20, multiple= 5)\n",
    "find_multiples(start_range= 1, end_range= 50, multiple= 10)"
   ]
  },
  {
   "cell_type": "markdown",
   "metadata": {},
   "source": [
    "# Task #3 - Grade Converter"
   ]
  },
  {
   "cell_type": "code",
   "execution_count": 72,
   "metadata": {},
   "outputs": [
    {
     "name": "stdout",
     "output_type": "stream",
     "text": [
      "{'Adam': '2.5', 'Faiz': '4'}\n",
      "{'Albert': 'A', 'Dwi': 'B', 'Syahdan': 'D', 'Veronica': 'B'}\n"
     ]
    }
   ],
   "source": [
    "def Grade_Converter(convert_to, **kwargs):\n",
    "  ''' \n",
    "  unpack key dan value menjadi sebuah variable \"key\" dan \"value\"\n",
    "  '''\n",
    "\n",
    "  for key,value in kwargs.items():\n",
    "    '''membuat kondisi untuk variable \"convert_to\" jika ingin mengubah jadi gpa atau letter_grade'''\n",
    "    if convert_to == 'letter_grade':\n",
    "       if value >= 85 and value <= 100:\n",
    "        kwargs[key] = 'A'\n",
    "       elif value >= 70 and value <= 84.99:\n",
    "        kwargs[key] = 'B'\n",
    "       elif value >= 60 and value <= 69.99:\n",
    "        kwargs[key] = 'C'\n",
    "       elif value >= 50 and value <= 59.99:\n",
    "        kwargs[key] = 'D'\n",
    "       elif value >= 40 and value <= 49.99:\n",
    "        kwargs[key] = 'E'\n",
    "       else:\n",
    "        kwargs[key] = 'F'\n",
    "    elif convert_to == 'gpa':\n",
    "       if value >= 85 and value <= 100:\n",
    "        kwargs[key] = '4'\n",
    "       elif value >= 70 and value <= 84.99:\n",
    "        kwargs[key] = '3'\n",
    "       elif value >= 60 and value <= 69.99:\n",
    "        kwargs[key] = '2.5'\n",
    "       elif value >= 50 and value <= 59.99:\n",
    "        kwargs[key] = '2'\n",
    "       elif value >= 40 and value <= 49.99:\n",
    "        kwargs[key] = '1.5'\n",
    "       else:\n",
    "        kwargs[key] = '1'\n",
    "  print(kwargs)\n",
    "\n",
    "Grade_Converter(convert_to ='gpa', Adam=62, Faiz=91)\n",
    "Grade_Converter(convert_to='letter_grade', Albert=90, Dwi=82, Syahdan=58, Veronica=84)"
   ]
  },
  {
   "cell_type": "markdown",
   "metadata": {},
   "source": [
    "# Task #4 - Fibonacci Sequence"
   ]
  },
  {
   "cell_type": "code",
   "execution_count": 73,
   "metadata": {},
   "outputs": [
    {
     "name": "stdout",
     "output_type": "stream",
     "text": [
      "3\n"
     ]
    }
   ],
   "source": [
    "def fibonacci(n):\n",
    "  \n",
    "  '''Buat Variable untuk menghitung fibonacci sequence nya'''\n",
    "\n",
    "  a = 0\n",
    "  b = 1\n",
    "\n",
    "  '''Membuat kondisi jika n = 0/1 karena tidak ada yang perlu dihitung'''\n",
    "\n",
    "  if n == 0:\n",
    "      return 0\n",
    "  elif n == 1 and n == 2:\n",
    "      return 1\n",
    "  \n",
    "  else:\n",
    "    '''Else statement jika n melebihi angka 2'''\n",
    "    for fibo_seq in range (n-1):\n",
    "      '''membuat for loop untuk setiap iterasi variable fibo_seq'''\n",
    "      fibo_seq = a + b\n",
    "      a = b\n",
    "      b = fibo_seq\n",
    "    print(fibo_seq)\n",
    "      \n",
    "fibonacci(n=4) "
   ]
  }
 ],
 "metadata": {
  "kernelspec": {
   "display_name": "base",
   "language": "python",
   "name": "python3"
  },
  "language_info": {
   "codemirror_mode": {
    "name": "ipython",
    "version": 3
   },
   "file_extension": ".py",
   "mimetype": "text/x-python",
   "name": "python",
   "nbconvert_exporter": "python",
   "pygments_lexer": "ipython3",
   "version": "3.11.5"
  }
 },
 "nbformat": 4,
 "nbformat_minor": 2
}
