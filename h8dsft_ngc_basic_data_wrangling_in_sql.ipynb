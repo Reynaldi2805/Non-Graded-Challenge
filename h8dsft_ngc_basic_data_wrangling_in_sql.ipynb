{
 "cells": [
  {
   "cell_type": "markdown",
   "metadata": {},
   "source": [
    "# NGC 5\n",
    "\n",
    "- Name: Reynaldi Evans Adam\n",
    "- Batch: HCK-013"
   ]
  },
  {
   "cell_type": "markdown",
   "metadata": {},
   "source": [
    "## SOAL 1 (Pembuatan Tabel dan kontennya)"
   ]
  },
  {
   "cell_type": "code",
   "execution_count": null,
   "metadata": {
    "vscode": {
     "languageId": "plaintext"
    }
   },
   "outputs": [],
   "source": [
    "CREATE TABLE Customers(\n",
    "\tcustomer_id SERIAL PRIMARY KEY,\n",
    "\tname VARCHAR(100) NOT NULL,\n",
    "\tregion VARCHAR(100) NOT NULL\n",
    "\t)\n",
    "\t\n",
    "CREATE TABLE Orders(\n",
    "\torder_id SERIAL PRIMARY KEY,\n",
    "\tcustomer_id INT REFERENCES Customers(customer_id),\n",
    "\torder_date DATE,\n",
    "\ttotal_amount FLOAT\n",
    "\t)\n",
    "\t\n",
    "insert into customers(name, region)\n",
    "values('Yelan', 'Liyue'),\n",
    "('Raiden Shogun', 'Inazuma'),\n",
    "('Eula', 'Mondstadt'),\n",
    "('Nilou', 'Sumeru'),\n",
    "('Clorinde', 'Fontaine'),\n",
    "('Arlecchino', 'Snezhnaya')\n",
    ";\n",
    "\n",
    "\n",
    "select * from customers c \n",
    "\n",
    "insert into orders(customer_id ,order_date, total_amount)\n",
    "values(1,'2023-05-27', 400.00),\n",
    "(1,'2023-05-28', 1000.00),\n",
    "(2,'2023-08-13', 150.00),\n",
    "(3,'2022-11-01', 75.00),\n",
    "(4,'2023-12-24', 550.00),\n",
    "(4,'2023-12-25', 300.00),\n",
    "(5,'2021-10-24', 550.00),\n",
    "(6,'2024-01-01', 3000.00)\n"
   ]
  },
  {
   "cell_type": "markdown",
   "metadata": {},
   "source": [
    "## SOAL 2 (Penggunaan join)"
   ]
  },
  {
   "cell_type": "code",
   "execution_count": null,
   "metadata": {
    "vscode": {
     "languageId": "plaintext"
    }
   },
   "outputs": [],
   "source": [
    "select c.name, count(*) as total_amount  from customers c \n",
    "left join orders o on o.customer_id = c.customer_id \n",
    "group by c.name"
   ]
  }
 ],
 "metadata": {
  "language_info": {
   "name": "python"
  }
 },
 "nbformat": 4,
 "nbformat_minor": 2
}
